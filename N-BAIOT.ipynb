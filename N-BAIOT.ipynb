{
 "cells": [
  {
   "cell_type": "code",
   "execution_count": 1,
   "metadata": {},
   "outputs": [],
   "source": [
    "%matplotlib inline\n",
    "import glob, os\n",
    "import matplotlib.pyplot as plt\n",
    "import numpy as np\n",
    "import pandas as pd"
   ]
  },
  {
   "cell_type": "code",
   "execution_count": 7,
   "metadata": {},
   "outputs": [],
   "source": [
    "pd.options.display.max_rows = 200\n",
    "\n",
    "plt.rcParams['figure.figsize'] = [20, 10]\n",
    "plt.rc('font', size=20)\n",
    "\n"
   ]
  },
  {
   "cell_type": "markdown",
   "metadata": {},
   "source": [
    "# Loading Dataset"
   ]
  },
  {
   "cell_type": "markdown",
   "metadata": {},
   "source": [
    "## IOT Devices\n",
    "\n",
    "The dataset has been extracted at `ROOT_PATH`, containing the data for each IOT device. There are 9 devices in total. There are folders for each IOT device containing `benign_traffic.csv` and further two folders for `gafgyt_attacks` and `mirai_attacks`"
   ]
  },
  {
   "cell_type": "code",
   "execution_count": 3,
   "metadata": {},
   "outputs": [],
   "source": [
    "ROOT_PATH = r'/mnt/data/khiz/dataset/00442'\n",
    "\n",
    "IOT_DEVS = [ 'Danmini_Doorbell',\n",
    "             'Ecobee_Thermostat',\n",
    "             'Ennio_Doorbell',\n",
    "             'B120N10_Baby_Mon',\n",
    "             '737E_Security_Cam',\n",
    "             '838_Security_Cam',\n",
    "             'Samsung_Webcam',\n",
    "             '1002_Security_Cam',\n",
    "             '1003_Security_Cam'\n",
    "           ]"
   ]
  },
  {
   "cell_type": "markdown",
   "metadata": {},
   "source": [
    "## Paths to CSVs\n",
    "We create a python dictionary that contains all the paths to the CSVs for the respective IOT devices"
   ]
  },
  {
   "cell_type": "code",
   "execution_count": 4,
   "metadata": {},
   "outputs": [
    {
     "name": "stdout",
     "output_type": "stream",
     "text": [
      "[Danmini_Doorbell]\n",
      "   benign_traffic.csv\n",
      "   gafgyt :  ['combo.csv', 'junk.csv', 'scan.csv', 'tcp.csv', 'udp.csv']\n",
      "   mirai :  ['ack.csv', 'scan.csv', 'syn.csv', 'udp.csv', 'udpplain.csv']\n",
      "[Ecobee_Thermostat]\n",
      "   benign_traffic.csv\n",
      "   gafgyt :  ['combo.csv', 'junk.csv', 'scan.csv', 'tcp.csv', 'udp.csv']\n",
      "   mirai :  ['ack.csv', 'scan.csv', 'syn.csv', 'udp.csv', 'udpplain.csv']\n",
      "[Ennio_Doorbell]\n",
      "   benign_traffic.csv\n",
      "   gafgyt :  ['combo.csv', 'junk.csv', 'scan.csv', 'tcp.csv', 'udp.csv']\n",
      "[B120N10_Baby_Mon]\n",
      "   benign_traffic.csv\n",
      "   gafgyt :  ['combo.csv', 'junk.csv', 'scan.csv', 'tcp.csv', 'udp.csv']\n",
      "   mirai :  ['ack.csv', 'scan.csv', 'syn.csv', 'udp.csv', 'udpplain.csv']\n",
      "[737E_Security_Cam]\n",
      "   benign_traffic.csv\n",
      "   gafgyt :  ['combo.csv', 'junk.csv', 'scan.csv', 'tcp.csv', 'udp.csv']\n",
      "   mirai :  ['ack.csv', 'scan.csv', 'syn.csv', 'udp.csv', 'udpplain.csv']\n",
      "[838_Security_Cam]\n",
      "   benign_traffic.csv\n",
      "   gafgyt :  ['combo.csv', 'junk.csv', 'scan.csv', 'tcp.csv', 'udp.csv']\n",
      "   mirai :  ['ack.csv', 'scan.csv', 'syn.csv', 'udp.csv', 'udpplain.csv']\n",
      "[Samsung_Webcam]\n",
      "   benign_traffic.csv\n",
      "   gafgyt :  ['combo.csv', 'junk.csv', 'scan.csv', 'tcp.csv', 'udp.csv']\n",
      "[1002_Security_Cam]\n",
      "   benign_traffic.csv\n",
      "   gafgyt :  ['combo.csv', 'junk.csv', 'scan.csv', 'tcp.csv', 'udp.csv']\n",
      "   mirai :  ['ack.csv', 'scan.csv', 'syn.csv', 'udp.csv', 'udpplain.csv']\n",
      "[1003_Security_Cam]\n",
      "   benign_traffic.csv\n",
      "   gafgyt :  ['combo.csv', 'junk.csv', 'scan.csv', 'tcp.csv', 'udp.csv']\n",
      "   mirai :  ['ack.csv', 'scan.csv', 'syn.csv', 'udp.csv', 'udpplain.csv']\n"
     ]
    }
   ],
   "source": [
    "PATHS_DICT = {}\n",
    "\n",
    "for i in IOT_DEVS:\n",
    "    PATHS_DICT[i] = {}\n",
    "    print('[' + i + ']')\n",
    "    iot_dir = os.path.join(ROOT_PATH, i)\n",
    "    PATHS_DICT[i]['benign'] = os.path.join(iot_dir, 'benign_traffic.csv')\n",
    "    print('  ', 'benign_traffic.csv')\n",
    "    attacks = [ d for d in os.listdir(iot_dir)\n",
    "                   if os.path.isdir( os.path.join(iot_dir, d)) ]\n",
    "    for attack in attacks:\n",
    "        attack_name = attack.split('_')[0]\n",
    "        \n",
    "        PATHS_DICT[i][attack_name] = {}\n",
    "        attack_dir = os.path.join(iot_dir, attack)\n",
    "        types = [ f for f in os.listdir(attack_dir)\n",
    "                   if os.path.isfile( os.path.join(attack_dir, f)) ]\n",
    "        print('  ', attack_name, ': ', types)\n",
    "        for t in types:\n",
    "            type_name = t.split('.')[0]\n",
    "            PATHS_DICT[i][attack_name][type_name] = os.path.join(attack_dir,t)"
   ]
  },
  {
   "cell_type": "markdown",
   "metadata": {},
   "source": [
    "## Loading CSVs into Pandas\n",
    "Loading CSVs into pandas, adding four columns:\n",
    "- `iot_dev`      : Name of IOT device\n",
    "- `traffic_type` : benign or attack (0 or 1)\n",
    "- `botnet`       : mirai or gafgyt\n",
    "- `attack_type`  : type of attack e.g, ack, scan etc."
   ]
  },
  {
   "cell_type": "code",
   "execution_count": 5,
   "metadata": {},
   "outputs": [],
   "source": [
    "nbaiot = pd.DataFrame()\n",
    "for iot_dev in PATHS_DICT:\n",
    "    iot_dev_name = ' '. join(iot_dev.split('_'))\n",
    "    df = pd.read_csv(PATHS_DICT[iot_dev]['benign'])\n",
    "    df['traffic_type'] = 'benign'\n",
    "    df['iot_dev'] = iot_dev_name\n",
    "    df['botnet'] = 'benign'\n",
    "    df['attack_type'] = 'benign'\n",
    "    nbaiot = nbaiot.append(df)\n",
    "    for botnet in [ b for b in PATHS_DICT[iot_dev] if b != 'benign']:\n",
    "        for attack in PATHS_DICT[iot_dev][botnet]:\n",
    "            df = pd.read_csv(PATHS_DICT[iot_dev][botnet][attack])\n",
    "            df['traffic_type'] = 'attack'\n",
    "            df['iot_dev'] = iot_dev_name\n",
    "            df['botnet'] = botnet\n",
    "            df['attack_type'] = attack\n",
    "            nbaiot = nbaiot.append(df)"
   ]
  },
  {
   "cell_type": "code",
   "execution_count": null,
   "metadata": {
    "scrolled": true
   },
   "outputs": [],
   "source": [
    "nbaiot.head()"
   ]
  },
  {
   "cell_type": "code",
   "execution_count": 11,
   "metadata": {},
   "outputs": [
    {
     "data": {
      "text/plain": [
       "iot_dev            botnet\n",
       "1002 Security Cam  benign     46585\n",
       "                   gafgyt    303223\n",
       "                   mirai     513248\n",
       "1003 Security Cam  benign     19528\n",
       "                   gafgyt    316438\n",
       "                   mirai     514860\n",
       "737E Security Cam  benign     62154\n",
       "                   gafgyt    330096\n",
       "                   mirai     436010\n",
       "838 Security Cam   benign     98514\n",
       "                   gafgyt    309040\n",
       "                   mirai     429337\n",
       "B120N10 Baby Mon   benign    175240\n",
       "                   gafgyt    312723\n",
       "                   mirai     610714\n",
       "Danmini Doorbell   benign     49548\n",
       "                   gafgyt    316650\n",
       "                   mirai     652100\n",
       "Ecobee Thermostat  benign     13113\n",
       "                   gafgyt    310630\n",
       "                   mirai     512133\n",
       "Ennio Doorbell     benign     39100\n",
       "                   gafgyt    316400\n",
       "Samsung Webcam     benign     52150\n",
       "                   gafgyt    323072\n",
       "dtype: int64"
      ]
     },
     "execution_count": 11,
     "metadata": {},
     "output_type": "execute_result"
    }
   ],
   "source": [
    "nbaiot[['iot_dev','botnet','traffic_type']].groupby(['iot_dev','botnet']).size()"
   ]
  },
  {
   "cell_type": "code",
   "execution_count": 13,
   "metadata": {},
   "outputs": [
    {
     "data": {
      "text/plain": [
       "iot_dev            botnet\n",
       "1002 Security Cam  benign     46585\n",
       "                   gafgyt    303223\n",
       "                   mirai     513248\n",
       "1003 Security Cam  benign     19528\n",
       "                   gafgyt    316438\n",
       "                   mirai     514860\n",
       "737E Security Cam  benign     62154\n",
       "                   gafgyt    330096\n",
       "                   mirai     436010\n",
       "838 Security Cam   benign     98514\n",
       "                   gafgyt    309040\n",
       "                   mirai     429337\n",
       "B120N10 Baby Mon   benign    175240\n",
       "                   gafgyt    312723\n",
       "                   mirai     610714\n",
       "Danmini Doorbell   benign     49548\n",
       "                   gafgyt    316650\n",
       "                   mirai     652100\n",
       "Ecobee Thermostat  benign     13113\n",
       "                   gafgyt    310630\n",
       "                   mirai     512133\n",
       "Ennio Doorbell     benign     39100\n",
       "                   gafgyt    316400\n",
       "Samsung Webcam     benign     52150\n",
       "                   gafgyt    323072\n",
       "dtype: int64"
      ]
     },
     "execution_count": 13,
     "metadata": {},
     "output_type": "execute_result"
    }
   ],
   "source": [
    "nbaiot[['iot_dev','botnet','traffic_type']].groupby(['iot_dev','botnet']).size()"
   ]
  },
  {
   "cell_type": "code",
   "execution_count": 13,
   "metadata": {},
   "outputs": [
    {
     "data": {
      "text/plain": [
       "Danmini_Doorbell    1018298\n",
       "Name: iot_dev, dtype: int64"
      ]
     },
     "execution_count": 13,
     "metadata": {},
     "output_type": "execute_result"
    }
   ],
   "source": [
    "nbaiot['iot_dev'].value_counts()"
   ]
  },
  {
   "cell_type": "code",
   "execution_count": 10,
   "metadata": {},
   "outputs": [
    {
     "ename": "AttributeError",
     "evalue": "'AxesSubplot' object has no attribute 'show'",
     "output_type": "error",
     "traceback": [
      "\u001b[0;31m---------------------------------------------------------------------------\u001b[0m",
      "\u001b[0;31mAttributeError\u001b[0m                            Traceback (most recent call last)",
      "\u001b[0;32m<ipython-input-10-fa07ddb0e26f>\u001b[0m in \u001b[0;36m<module>\u001b[0;34m\u001b[0m\n\u001b[1;32m      2\u001b[0m \u001b[0;34m\u001b[0m\u001b[0m\n\u001b[1;32m      3\u001b[0m \u001b[0mplot\u001b[0m \u001b[0;34m=\u001b[0m \u001b[0mnbaiot\u001b[0m\u001b[0;34m[\u001b[0m\u001b[0;34m[\u001b[0m\u001b[0;34m'iot_dev'\u001b[0m\u001b[0;34m,\u001b[0m\u001b[0;34m'botnet'\u001b[0m\u001b[0;34m]\u001b[0m\u001b[0;34m]\u001b[0m\u001b[0;34m.\u001b[0m\u001b[0mgroupby\u001b[0m\u001b[0;34m(\u001b[0m\u001b[0;34m[\u001b[0m\u001b[0;34m'iot_dev'\u001b[0m\u001b[0;34m,\u001b[0m\u001b[0;34m'botnet'\u001b[0m\u001b[0;34m]\u001b[0m\u001b[0;34m)\u001b[0m\u001b[0;34m.\u001b[0m\u001b[0msize\u001b[0m\u001b[0;34m(\u001b[0m\u001b[0;34m)\u001b[0m\u001b[0;34m.\u001b[0m\u001b[0munstack\u001b[0m\u001b[0;34m(\u001b[0m\u001b[0mlevel\u001b[0m\u001b[0;34m=\u001b[0m\u001b[0;36m1\u001b[0m\u001b[0;34m)\u001b[0m\u001b[0;34m.\u001b[0m\u001b[0mplot\u001b[0m\u001b[0;34m(\u001b[0m\u001b[0mkind\u001b[0m\u001b[0;34m=\u001b[0m\u001b[0;34m'bar'\u001b[0m\u001b[0;34m,\u001b[0m \u001b[0mxlabel\u001b[0m\u001b[0;34m=\u001b[0m\u001b[0;34m\"test\"\u001b[0m\u001b[0;34m)\u001b[0m\u001b[0;34m\u001b[0m\u001b[0;34m\u001b[0m\u001b[0m\n\u001b[0;32m----> 4\u001b[0;31m \u001b[0mplot\u001b[0m\u001b[0;34m.\u001b[0m\u001b[0mshow\u001b[0m\u001b[0;34m(\u001b[0m\u001b[0;34m)\u001b[0m\u001b[0;34m\u001b[0m\u001b[0;34m\u001b[0m\u001b[0m\n\u001b[0m",
      "\u001b[0;31mAttributeError\u001b[0m: 'AxesSubplot' object has no attribute 'show'"
     ]
    },
    {
     "data": {
      "image/png": "[encoded data removed]",
      "text/plain": [
       "<Figure size 1440x720 with 1 Axes>"
      ]
     },
     "metadata": {
      "needs_background": "light"
     },
     "output_type": "display_data"
    }
   ],
   "source": [
    "plt.rcParams['figure.figsize'] = [20, 10]\n",
    "\n",
    "nbaiot[['iot_dev','botnet']].groupby(['iot_dev','botnet']).size().unstack(level=1).plot(kind='bar', xlabel=\"test\")"
   ]
  },
  {
   "cell_type": "code",
   "execution_count": null,
   "metadata": {},
   "outputs": [],
   "source": [
    "nbaiot.info()"
   ]
  },
  {
   "cell_type": "code",
   "execution_count": null,
   "metadata": {},
   "outputs": [],
   "source": [
    "nbaiot['traffic_type'].value_counts()"
   ]
  },
  {
   "cell_type": "code",
   "execution_count": null,
   "metadata": {},
   "outputs": [],
   "source": [
    "nbaiot.isna().sum().sum()"
   ]
  },
  {
   "cell_type": "markdown",
   "metadata": {},
   "source": [
    "## MODELING"
   ]
  },
  {
   "cell_type": "code",
   "execution_count": null,
   "metadata": {},
   "outputs": [],
   "source": [
    "nbaiot.loc[ nbaiot['traffic_type']=='attack','traffic_type' ]=1\n",
    "nbaiot.loc[ nbaiot['traffic_type']=='benign','traffic_type' ]=0\n",
    "nbaiot['traffic_type'] = nbaiot['traffic_type'].astype(int)\n"
   ]
  },
  {
   "cell_type": "code",
   "execution_count": null,
   "metadata": {},
   "outputs": [],
   "source": [
    "nbaiot['traffic_type'].value_counts()"
   ]
  },
  {
   "cell_type": "code",
   "execution_count": null,
   "metadata": {},
   "outputs": [],
   "source": [
    "nbaiot['iot_dev'].value_counts()"
   ]
  },
  {
   "cell_type": "code",
   "execution_count": null,
   "metadata": {},
   "outputs": [],
   "source": [
    "nbaiot = nbaiot[ nbaiot['iot_dev'] == 'Danmini_Doorbell' ]"
   ]
  },
  {
   "cell_type": "code",
   "execution_count": null,
   "metadata": {},
   "outputs": [],
   "source": [
    "nbaiot['iot_dev'].value_counts()"
   ]
  },
  {
   "cell_type": "code",
   "execution_count": null,
   "metadata": {},
   "outputs": [],
   "source": [
    "# All the features columns\n",
    "X = nbaiot.drop( [\"attack_type\", \"traffic_type\", \"iot_dev\", \"botnet\" ], axis=1)\n",
    "\n",
    "# Targe column\n",
    "y = nbaiot[\"traffic_type\"]"
   ]
  },
  {
   "cell_type": "code",
   "execution_count": null,
   "metadata": {},
   "outputs": [],
   "source": [
    "from sklearn.model_selection import train_test_split\n",
    "\n",
    "X_train, X_test, y_train, y_test = train_test_split(\n",
    "    X, y, test_size=0.33, random_state=42)"
   ]
  },
  {
   "cell_type": "code",
   "execution_count": null,
   "metadata": {},
   "outputs": [],
   "source": [
    "from sklearn.linear_model import LogisticRegression\n",
    "from sklearn.neighbors import KNeighborsClassifier\n",
    "from sklearn.ensemble import RandomForestClassifier\n",
    "from sklearn.svm import SVC\n",
    "from sklearn.metrics import classification_report, confusion_matrix, accuracy_score\n",
    "import seaborn as sns\n",
    "sns.set(font_scale=1.5) # Increase font size"
   ]
  },
  {
   "cell_type": "code",
   "execution_count": null,
   "metadata": {},
   "outputs": [],
   "source": [
    "def plot_conf_mat(y_test, y_preds):\n",
    "    \"\"\"\n",
    "    Plots a confusion matrix using Seaborn's heatmap().\n",
    "    \"\"\"\n",
    "    fig, ax = plt.subplots(figsize=(3, 3))\n",
    "    ax = sns.heatmap(confusion_matrix(y_test, y_preds),\n",
    "                     annot=True, # Annotate the boxes\n",
    "                     cbar=False)\n",
    "    plt.xlabel(\"true label\")\n",
    "    plt.ylabel(\"predicted label\")"
   ]
  },
  {
   "cell_type": "code",
   "execution_count": null,
   "metadata": {},
   "outputs": [],
   "source": [
    "clfs = {\n",
    "    'KNN' : KNeighborsClassifier(),\n",
    "    'RFR' : RandomForestClassifier(),\n",
    "    #'LRE' : LogisticRegression(),\n",
    "    'SVC' : SVC(kernel='linear')\n",
    "}"
   ]
  },
  {
   "cell_type": "code",
   "execution_count": null,
   "metadata": {},
   "outputs": [],
   "source": [
    "for clfk in clfs:\n",
    "    \n",
    "    clf_name = clfk\n",
    "    clf = clfs[clfk]\n",
    "    \n",
    "    print('==============',clf_name,'==============')\n",
    "    \n",
    "    clf.fit(X_train, y_train)\n",
    "    score = clf.score(X_test, y_test)\n",
    "    print('Score:', score)\n",
    "    y_preds = clf.predict(X_test)\n",
    "    print( classification_report(y_test, y_preds) )\n",
    "    conf_mat = confusion_matrix(y_test, y_preds)\n",
    "    print(conf_mat)\n",
    "    plot_conf_mat(y_test, y_preds)\n",
    "    plt.show()\n",
    "    print('=============================')\n",
    "    print('')\n",
    "    "
   ]
  },
  {
   "cell_type": "code",
   "execution_count": null,
   "metadata": {},
   "outputs": [],
   "source": [
    "clf = KNeighborsClassifier()\n",
    "clf.fit(X_train, y_train)"
   ]
  },
  {
   "cell_type": "code",
   "execution_count": null,
   "metadata": {},
   "outputs": [],
   "source": [
    "clf.score(X_test, y_test)"
   ]
  },
  {
   "cell_type": "code",
   "execution_count": null,
   "metadata": {},
   "outputs": [],
   "source": [
    "from sklearn.metrics import classification_report, confusion_matrix, accuracy_score"
   ]
  },
  {
   "cell_type": "code",
   "execution_count": null,
   "metadata": {},
   "outputs": [],
   "source": [
    "y_preds = clf.predict(X_test)"
   ]
  },
  {
   "cell_type": "code",
   "execution_count": null,
   "metadata": {},
   "outputs": [],
   "source": [
    "print( classification_report(y_test, y_preds) )\n",
    "print( classification_report(y_test, y_preds) )"
   ]
  },
  {
   "cell_type": "code",
   "execution_count": null,
   "metadata": {},
   "outputs": [],
   "source": [
    "conf_mat = confusion_matrix(y_test, y_preds)\n",
    "conf_mat"
   ]
  },
  {
   "cell_type": "code",
   "execution_count": null,
   "metadata": {},
   "outputs": [],
   "source": [
    "# Import Seaborn\n",
    "import seaborn as sns\n",
    "sns.set(font_scale=1.5) # Increase font size\n",
    "\n",
    "def plot_conf_mat(y_test, y_preds):\n",
    "    \"\"\"\n",
    "    Plots a confusion matrix using Seaborn's heatmap().\n",
    "    \"\"\"\n",
    "    fig, ax = plt.subplots(figsize=(3, 3))\n",
    "    ax = sns.heatmap(confusion_matrix(y_test, y_preds),\n",
    "                     annot=True, # Annotate the boxes\n",
    "                     cbar=False)\n",
    "    plt.xlabel(\"true label\")\n",
    "    plt.ylabel(\"predicted label\")\n",
    "    \n",
    "plot_conf_mat(y_test, y_preds)"
   ]
  },
  {
   "cell_type": "code",
   "execution_count": null,
   "metadata": {},
   "outputs": [],
   "source": [
    "x = 1\n",
    "y = 2"
   ]
  },
  {
   "cell_type": "code",
   "execution_count": null,
   "metadata": {},
   "outputs": [],
   "source": [
    "print(x)\n",
    "print(y)"
   ]
  },
  {
   "cell_type": "code",
   "execution_count": 17,
   "metadata": {},
   "outputs": [
    {
     "data": {
      "text/plain": [
       "{'x': 4, 'y': 5}"
      ]
     },
     "execution_count": 17,
     "metadata": {},
     "output_type": "execute_result"
    }
   ],
   "source": [
    "dict = {\n",
    "    'x' : 4,\n",
    "    'y' : 5,\n",
    "}\n",
    "\n",
    "dict"
   ]
  },
  {
   "cell_type": "code",
   "execution_count": 19,
   "metadata": {},
   "outputs": [
    {
     "name": "stdout",
     "output_type": "stream",
     "text": [
      "4\n",
      "5\n"
     ]
    }
   ],
   "source": [
    "for a in dict:\n",
    "    print(dict[a])"
   ]
  }
 ],
 "metadata": {
  "kernelspec": {
   "display_name": "Python 3",
   "language": "python",
   "name": "python3"
  },
  "language_info": {
   "codemirror_mode": {
    "name": "ipython",
    "version": 3
   },
   "file_extension": ".py",
   "mimetype": "text/x-python",
   "name": "python",
   "nbconvert_exporter": "python",
   "pygments_lexer": "ipython3",
   "version": "3.8.5"
  }
 },
 "nbformat": 4,
 "nbformat_minor": 4
}
