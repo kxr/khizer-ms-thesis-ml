{
 "cells": [
  {
   "cell_type": "code",
   "execution_count": 1,
   "metadata": {},
   "outputs": [],
   "source": [
    "%matplotlib inline\n",
    "import glob, os\n",
    "import matplotlib.pyplot as plt\n",
    "import numpy as np\n",
    "import pandas as pd"
   ]
  },
  {
   "cell_type": "code",
   "execution_count": 2,
   "metadata": {},
   "outputs": [],
   "source": [
    "pd.options.display.max_rows = 200\n",
    "\n",
    "plt.rcParams['figure.figsize'] = [20, 10]\n",
    "plt.rc('font', size=20)\n",
    "\n"
   ]
  },
  {
   "cell_type": "markdown",
   "metadata": {},
   "source": [
    "# Loading Dataset"
   ]
  },
  {
   "cell_type": "markdown",
   "metadata": {},
   "source": [
    "## IOT Devices\n",
    "\n",
    "The dataset has been extracted at `ROOT_PATH`, containing the data for each IOT device. There are 9 devices in total. There are folders for each IOT device containing `benign_traffic.csv` and further two folders for `gafgyt_attacks` and `mirai_attacks`"
   ]
  },
  {
   "cell_type": "code",
   "execution_count": null,
   "metadata": {},
   "outputs": [],
   "source": [
    "ROOT_PATH = r'/mnt/data/khiz/dataset/00442'\n",
    "\n",
    "IOT_DEVS = [ 'Danmini_Doorbell',\n",
    "             'Ecobee_Thermostat',\n",
    "#              'Ennio_Doorbell',\n",
    "#              'B120N10_Baby_Mon',\n",
    "#              '737E_Security_Cam',\n",
    "#              '838_Security_Cam',\n",
    "#              'Samsung_Webcam',\n",
    "#              '1002_Security_Cam',\n",
    "#              '1003_Security_Cam'\n",
    "           ]"
   ]
  },
  {
   "cell_type": "markdown",
   "metadata": {},
   "source": [
    "## Paths to CSVs\n",
    "We create a python dictionary that contains all the paths to the CSVs for the respective IOT devices"
   ]
  },
  {
   "cell_type": "code",
   "execution_count": null,
   "metadata": {},
   "outputs": [],
   "source": [
    "PATHS_DICT = {}\n",
    "\n",
    "for i in IOT_DEVS:\n",
    "    PATHS_DICT[i] = {}\n",
    "    print('[' + i + ']')\n",
    "    iot_dir = os.path.join(ROOT_PATH, i)\n",
    "    PATHS_DICT[i]['benign'] = os.path.join(iot_dir, 'benign_traffic.csv')\n",
    "    print('  ', 'benign_traffic.csv')\n",
    "    attacks = [ d for d in os.listdir(iot_dir)\n",
    "                   if os.path.isdir( os.path.join(iot_dir, d)) ]\n",
    "    for attack in attacks:\n",
    "        attack_name = attack.split('_')[0]\n",
    "        \n",
    "        PATHS_DICT[i][attack_name] = {}\n",
    "        attack_dir = os.path.join(iot_dir, attack)\n",
    "        types = [ f for f in os.listdir(attack_dir)\n",
    "                   if os.path.isfile( os.path.join(attack_dir, f)) ]\n",
    "        print('  ', attack_name, ': ', types)\n",
    "        for t in types:\n",
    "            type_name = t.split('.')[0]\n",
    "            PATHS_DICT[i][attack_name][type_name] = os.path.join(attack_dir,t)"
   ]
  },
  {
   "cell_type": "markdown",
   "metadata": {},
   "source": [
    "## Loading CSVs into Pandas\n",
    "We will create pandas dataframe for each botnet attack on each IOT device. For each datafram we will combine the attack traffic with the benign traffic add the following two columns:\n",
    "- `traffic_type` : benign or attack (0 or 1)\n",
    "- `attack_type`  : type of attack e.g, ack, scan etc."
   ]
  },
  {
   "cell_type": "code",
   "execution_count": null,
   "metadata": {},
   "outputs": [],
   "source": [
    "nbaiot_dict = {}\n",
    "for iot_dev in PATHS_DICT:\n",
    "    b_df = pd.read_csv(PATHS_DICT[iot_dev]['benign'])\n",
    "    b_df['traffic_type'] = 'benign'\n",
    "    b_df['attack_type'] = 'benign'\n",
    "    for botnet in [ b for b in PATHS_DICT[iot_dev] if b != 'benign']:\n",
    "        if botnet not in nbaiot_dict:\n",
    "            nbaiot_dict[botnet] = pd.DataFrame()\n",
    "        nbaiot_dict[botnet] = nbaiot_dict[botnet].append(b_df)\n",
    "        for attack in PATHS_DICT[iot_dev][botnet]:\n",
    "            a_df = pd.read_csv(PATHS_DICT[iot_dev][botnet][attack])\n",
    "            a_df['traffic_type'] = 'attack'\n",
    "            a_df['attack_type'] = attack\n",
    "            nbaiot_dict[botnet] = nbaiot_dict[botnet].append(a_df)"
   ]
  },
  {
   "cell_type": "code",
   "execution_count": null,
   "metadata": {},
   "outputs": [],
   "source": [
    "for k in nbaiot_dict:\n",
    "    print(k,':','<benign+attack>')"
   ]
  },
  {
   "cell_type": "code",
   "execution_count": null,
   "metadata": {},
   "outputs": [],
   "source": [
    "nbaiot_dict['gafgyt'].shape"
   ]
  },
  {
   "cell_type": "code",
   "execution_count": null,
   "metadata": {},
   "outputs": [],
   "source": [
    "nbaiot_dict['mirai'].shape"
   ]
  },
  {
   "cell_type": "code",
   "execution_count": null,
   "metadata": {},
   "outputs": [],
   "source": [
    "nbaiot_dict['gafgyt']['traffic_type'].value_counts()"
   ]
  },
  {
   "cell_type": "code",
   "execution_count": null,
   "metadata": {},
   "outputs": [],
   "source": [
    "nbaiot_dict['mirai']['traffic_type'].value_counts()"
   ]
  },
  {
   "cell_type": "markdown",
   "metadata": {},
   "source": [
    "# Modeling"
   ]
  },
  {
   "cell_type": "markdown",
   "metadata": {},
   "source": [
    "### Pre processing\n",
    "Convert the target column `traffic_type` to integer 0 = benigh, 1 = attack "
   ]
  },
  {
   "cell_type": "code",
   "execution_count": null,
   "metadata": {},
   "outputs": [],
   "source": [
    "for botnet in nbaiot_dict:\n",
    "    nbaiot = nbaiot_dict[botnet]\n",
    "\n",
    "    nbaiot.loc[ nbaiot['traffic_type']=='attack','traffic_type' ]=1\n",
    "    nbaiot.loc[ nbaiot['traffic_type']=='benign','traffic_type' ]=0\n",
    "    nbaiot['traffic_type'] = nbaiot['traffic_type'].astype(int)\n",
    "\n",
    "    nbaiot_dict[botnet] = nbaiot"
   ]
  },
  {
   "cell_type": "markdown",
   "metadata": {},
   "source": [
    "### Classifiers and training functions"
   ]
  },
  {
   "cell_type": "code",
   "execution_count": null,
   "metadata": {},
   "outputs": [],
   "source": [
    "from sklearn.model_selection import train_test_split\n",
    "from sklearn.linear_model import LogisticRegression\n",
    "from sklearn.neighbors import KNeighborsClassifier\n",
    "from sklearn.ensemble import RandomForestClassifier, AdaBoostClassifier\n",
    "from sklearn.tree import DecisionTreeClassifier\n",
    "from sklearn.svm import SVC\n",
    "from sklearn.metrics import classification_report, confusion_matrix, accuracy_score\n"
   ]
  },
  {
   "cell_type": "code",
   "execution_count": null,
   "metadata": {},
   "outputs": [],
   "source": [
    "classfiers = {\n",
    "    'KNN' : KNeighborsClassifier(),\n",
    "    'RFR' : RandomForestClassifier(),\n",
    "    'DTR' : DecisionTreeClassifier(),\n",
    "    'ADB' : AdaBoostClassifier(),\n",
    "    \n",
    "}\n",
    "\n",
    "def train_test_report( X, y, test_size=0.33, avg='macro avg' ):\n",
    "\n",
    "    X_train, X_test, y_train, y_test = train_test_split(\n",
    "                                        X, y, test_size=0.33, random_state=42)\n",
    "\n",
    "    result = []\n",
    "    for clf_name in classfiers:\n",
    "        clf = classfiers[clf_name]\n",
    "        clf.fit(X_train, y_train)\n",
    "        \n",
    "        y_preds = clf.predict(X_test)\n",
    "        \n",
    "        clrp = classification_report(y_test, y_preds, output_dict=True)\n",
    "        conf_mat = confusion_matrix(y_test, y_preds)\n",
    "        fp = conf_mat[0][1]\n",
    "        fn = conf_mat[1][0]\n",
    "        \n",
    "        result.append([\n",
    "            clf_name,\n",
    "            clrp['accuracy'],\n",
    "            clrp[avg]['precision'],\n",
    "            clrp[avg]['recall'],\n",
    "            clrp[avg]['f1-score'],\n",
    "            fp,\n",
    "            fn\n",
    "        ])\n",
    "\n",
    "    return result"
   ]
  },
  {
   "cell_type": "markdown",
   "metadata": {},
   "source": [
    "## Main Loop"
   ]
  },
  {
   "cell_type": "code",
   "execution_count": null,
   "metadata": {},
   "outputs": [],
   "source": [
    "all_results = [\n",
    "    ['BOTNET', 'CLASSIFIER', 'ACCURACY', 'PRECISION', 'RECALL', 'F1-SCORE', 'FALSE-P', 'FALSE-N' ]\n",
    "]\n",
    "\n",
    "for botnet in nbaiot_dict:\n",
    "    nbaiot = nbaiot_dict[botnet]\n",
    "\n",
    "    print(\"================\", botnet, \"================\")\n",
    "\n",
    "    X = nbaiot.drop( [\"attack_type\", \"traffic_type\" ], axis=1 )\n",
    "    y = nbaiot[\"traffic_type\"]\n",
    "\n",
    "    rep = train_test_report( X, y)\n",
    "    for r in rep:\n",
    "        print(r)\n",
    "        all_results.append( [botnet] + r )\n",
    "\n",
    "    print(\"================================================================\")\n",
    "    print(\"\")\n"
   ]
  },
  {
   "cell_type": "code",
   "execution_count": null,
   "metadata": {},
   "outputs": [],
   "source": [
    "res_df =pd.DataFrame(all_results, index=None)\n",
    "\n",
    "res_df, res_df.columns = res_df[1:] , res_df.iloc[0]\n",
    "\n",
    "res_df"
   ]
  },
  {
   "cell_type": "code",
   "execution_count": null,
   "metadata": {},
   "outputs": [],
   "source": [
    "# Write to csv\n",
    "res_csv = res_df.to_csv(index=False)\n",
    "\n",
    "print(res_csv, file=open('03_results.csv', 'w'))\n"
   ]
  },
  {
   "cell_type": "markdown",
   "metadata": {},
   "source": [
    "### Load results from CSV"
   ]
  },
  {
   "cell_type": "code",
   "execution_count": null,
   "metadata": {
    "scrolled": true
   },
   "outputs": [],
   "source": [
    "res_df = pd.read_csv('03_results.csv')\n",
    "\n",
    "res_df = res_df[['BOTNET', 'CLASSIFIER', 'ACCURACY', 'PRECISION', 'FALSE-P', 'FALSE-N' ]]\n",
    "\n",
    "res_df"
   ]
  },
  {
   "cell_type": "code",
   "execution_count": null,
   "metadata": {},
   "outputs": [],
   "source": [
    "res_df.set_index(['BOTNET', 'CLASSIFIER'], inplace=True)\n",
    "res_df"
   ]
  },
  {
   "cell_type": "code",
   "execution_count": null,
   "metadata": {},
   "outputs": [],
   "source": [
    "res_df.plot(kind='bar')"
   ]
  }
 ],
 "metadata": {
  "kernelspec": {
   "display_name": "Python 3",
   "language": "python",
   "name": "python3"
  },
  "language_info": {
   "codemirror_mode": {
    "name": "ipython",
    "version": 3
   },
   "file_extension": ".py",
   "mimetype": "text/x-python",
   "name": "python",
   "nbconvert_exporter": "python",
   "pygments_lexer": "ipython3",
   "version": "3.8.5"
  }
 },
 "nbformat": 4,
 "nbformat_minor": 4
}
