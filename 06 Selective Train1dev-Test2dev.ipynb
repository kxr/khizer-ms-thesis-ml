{
 "cells": [
  {
   "cell_type": "code",
   "execution_count": 1,
   "metadata": {},
   "outputs": [],
   "source": [
    "%matplotlib inline\n",
    "import glob, os\n",
    "import matplotlib.pyplot as plt\n",
    "import numpy as np\n",
    "import pandas as pd"
   ]
  },
  {
   "cell_type": "code",
   "execution_count": 2,
   "metadata": {},
   "outputs": [],
   "source": [
    "pd.options.display.max_rows = 200\n",
    "\n",
    "plt.rcParams['figure.figsize'] = [10, 5]\n",
    "plt.rc('font', size=20)\n",
    "\n"
   ]
  },
  {
   "cell_type": "markdown",
   "metadata": {},
   "source": [
    "# Loading Dataset"
   ]
  },
  {
   "cell_type": "markdown",
   "metadata": {},
   "source": [
    "## IOT Devices\n",
    "\n",
    "The dataset has been extracted at `ROOT_PATH`, containing the data for each IOT device. There are 9 devices in total. There are folders for each IOT device containing `benign_traffic.csv` and further two folders for `gafgyt_attacks` and `mirai_attacks`"
   ]
  },
  {
   "cell_type": "markdown",
   "metadata": {},
   "source": [
    "## Loading CSVs into Pandas\n",
    "We will create pandas dataframe for each botnet attack on each IOT device. For each datafram we will combine the attack traffic with the benign traffic add the following column:\n",
    "- `traffic_type` : benign or attack (0 or 1)\n"
   ]
  },
  {
   "cell_type": "code",
   "execution_count": 3,
   "metadata": {},
   "outputs": [],
   "source": [
    "ROOT_PATH = r'/mnt/data/khiz/dataset/00442'\n",
    "\n",
    "# Train   = B120N10_Baby_Mon  / mirai\n",
    "train_dev = 'B120N10_Baby_Mon'\n",
    "train_bot = 'mirai'\n",
    "# Test    = 737E_Security_Cam / mirai\n",
    "test_dev  = '737E_Security_Cam'\n",
    "test_bot  = 'mirai' \n",
    "\n",
    "DFS=[]\n",
    "for dev,bot in [ (train_dev, train_bot), (test_dev, test_bot) ]:\n",
    "    # Initialize empty df\n",
    "    df = pd.DataFrame()\n",
    "    # Load attack csvs\n",
    "    attack_path = os.path.join(ROOT_PATH, dev, bot+'_attacks')\n",
    "    attack_files = [ os.path.join(attack_path,f)\n",
    "                     for f in os.listdir(attack_path)\n",
    "                        if f.endswith('.csv') ]\n",
    "    for af in attack_files:\n",
    "        csv_df = pd.read_csv(af)\n",
    "        csv_df['traffic_type'] = 'attack'\n",
    "        df = df.append(csv_df)\n",
    "    # Load benign csv\n",
    "    benign_file = os.path.join(ROOT_PATH, dev, 'benign_traffic.csv')\n",
    "    csv_df = pd.read_csv(benign_file)\n",
    "    csv_df['traffic_type'] = 'benign'\n",
    "    df = df.append(csv_df)\n",
    "    DFS.append(df)\n",
    "\n",
    "train_df = DFS[0]\n",
    "test_df  = DFS[1]"
   ]
  },
  {
   "cell_type": "code",
   "execution_count": 4,
   "metadata": {},
   "outputs": [
    {
     "data": {
      "text/plain": [
       "(785954, 116)"
      ]
     },
     "execution_count": 4,
     "metadata": {},
     "output_type": "execute_result"
    }
   ],
   "source": [
    "train_df.shape"
   ]
  },
  {
   "cell_type": "code",
   "execution_count": 5,
   "metadata": {},
   "outputs": [
    {
     "data": {
      "text/plain": [
       "(498164, 116)"
      ]
     },
     "execution_count": 5,
     "metadata": {},
     "output_type": "execute_result"
    }
   ],
   "source": [
    "test_df.shape"
   ]
  },
  {
   "cell_type": "code",
   "execution_count": 6,
   "metadata": {},
   "outputs": [
    {
     "data": {
      "text/plain": [
       "attack    610714\n",
       "benign    175240\n",
       "Name: traffic_type, dtype: int64"
      ]
     },
     "execution_count": 6,
     "metadata": {},
     "output_type": "execute_result"
    }
   ],
   "source": [
    "train_df['traffic_type'].value_counts()"
   ]
  },
  {
   "cell_type": "code",
   "execution_count": 7,
   "metadata": {},
   "outputs": [
    {
     "data": {
      "text/plain": [
       "attack    436010\n",
       "benign     62154\n",
       "Name: traffic_type, dtype: int64"
      ]
     },
     "execution_count": 7,
     "metadata": {},
     "output_type": "execute_result"
    }
   ],
   "source": [
    "test_df['traffic_type'].value_counts()"
   ]
  },
  {
   "cell_type": "code",
   "execution_count": 8,
   "metadata": {},
   "outputs": [
    {
     "data": {
      "text/plain": [
       "<AxesSubplot:title={'center':'Test Traffic'}>"
      ]
     },
     "execution_count": 8,
     "metadata": {},
     "output_type": "execute_result"
    },
    {
     "data": {
      "image/png": "[encoded data removed]",
      "text/plain": [
       "<Figure size 720x360 with 2 Axes>"
      ]
     },
     "metadata": {
      "needs_background": "light"
     },
     "output_type": "display_data"
    }
   ],
   "source": [
    "fig, axes = plt.subplots(1,2, figsize=(10,5), squeeze=False, sharey=True)\n",
    "#fig.tight_layout()\n",
    "\n",
    "train_df['traffic_type'].value_counts().plot(kind='bar', title='Train Traffic', y='count', ax=axes[0,0])\n",
    "test_df['traffic_type'].value_counts().plot(kind='bar', title='Test Traffic', y='count', ax=axes[0,1])\n"
   ]
  },
  {
   "cell_type": "markdown",
   "metadata": {},
   "source": [
    "# Modeling"
   ]
  },
  {
   "cell_type": "markdown",
   "metadata": {},
   "source": [
    "### Pre processing\n",
    "Convert the target column `traffic_type` to integer 0 = benigh, 1 = attack "
   ]
  },
  {
   "cell_type": "code",
   "execution_count": 9,
   "metadata": {},
   "outputs": [],
   "source": [
    "train_df.loc[ train_df['traffic_type']=='attack', 'traffic_type'] = 1\n",
    "train_df.loc[ train_df['traffic_type']=='benign', 'traffic_type'] = 0\n",
    "train_df['traffic_type'] = train_df['traffic_type'].astype(int)\n",
    "\n",
    "test_df.loc[ test_df['traffic_type']=='attack', 'traffic_type'] = 1\n",
    "test_df.loc[ test_df['traffic_type']=='benign', 'traffic_type'] = 0\n",
    "test_df['traffic_type'] = test_df['traffic_type'].astype(int)"
   ]
  },
  {
   "cell_type": "markdown",
   "metadata": {},
   "source": [
    "### Classifiers and training functions"
   ]
  },
  {
   "cell_type": "code",
   "execution_count": 10,
   "metadata": {},
   "outputs": [],
   "source": [
    "from sklearn.model_selection import train_test_split\n",
    "from sklearn.linear_model import LogisticRegression\n",
    "from sklearn.neighbors import KNeighborsClassifier\n",
    "from sklearn.ensemble import RandomForestClassifier, AdaBoostClassifier\n",
    "from sklearn.tree import DecisionTreeClassifier\n",
    "from sklearn.svm import SVC\n",
    "from sklearn.metrics import classification_report, confusion_matrix, accuracy_score\n"
   ]
  },
  {
   "cell_type": "code",
   "execution_count": 11,
   "metadata": {},
   "outputs": [],
   "source": [
    "clf = KNeighborsClassifier()"
   ]
  },
  {
   "cell_type": "markdown",
   "metadata": {},
   "source": [
    "## Train"
   ]
  },
  {
   "cell_type": "code",
   "execution_count": 12,
   "metadata": {},
   "outputs": [
    {
     "data": {
      "text/plain": [
       "KNeighborsClassifier()"
      ]
     },
     "execution_count": 12,
     "metadata": {},
     "output_type": "execute_result"
    }
   ],
   "source": [
    "X_train = train_df.drop([\"traffic_type\" ], axis=1)\n",
    "y_train = train_df[\"traffic_type\"]\n",
    "\n",
    "X_test = test_df.drop([\"traffic_type\" ], axis=1)\n",
    "y_test = test_df[\"traffic_type\"]\n",
    "\n",
    "clf.fit(X_train, y_train)\n",
    "#y_preds = clf.predict(X_test)\n",
    "\n"
   ]
  },
  {
   "cell_type": "markdown",
   "metadata": {},
   "source": [
    "## Test"
   ]
  },
  {
   "cell_type": "code",
   "execution_count": 13,
   "metadata": {},
   "outputs": [],
   "source": [
    "y_preds = clf.predict(X_test)\n"
   ]
  },
  {
   "cell_type": "markdown",
   "metadata": {},
   "source": [
    "## Evaluate"
   ]
  },
  {
   "cell_type": "code",
   "execution_count": 14,
   "metadata": {},
   "outputs": [
    {
     "name": "stdout",
     "output_type": "stream",
     "text": [
      "              precision    recall  f1-score   support\n",
      "\n",
      "           0       0.47      0.98      0.64     62154\n",
      "           1       1.00      0.84      0.91    436010\n",
      "\n",
      "    accuracy                           0.86    498164\n",
      "   macro avg       0.73      0.91      0.78    498164\n",
      "weighted avg       0.93      0.86      0.88    498164\n",
      "\n"
     ]
    }
   ],
   "source": [
    "print(classification_report(y_test, y_preds, output_dict=False))\n"
   ]
  },
  {
   "cell_type": "code",
   "execution_count": 15,
   "metadata": {},
   "outputs": [
    {
     "data": {
      "text/plain": [
       "array([[ 61078,   1076],\n",
       "       [ 68450, 367560]])"
      ]
     },
     "execution_count": 15,
     "metadata": {},
     "output_type": "execute_result"
    }
   ],
   "source": [
    "confusion_matrix(y_test, y_preds)"
   ]
  },
  {
   "cell_type": "markdown",
   "metadata": {},
   "source": [
    "# Balancing Training DataSet"
   ]
  },
  {
   "cell_type": "markdown",
   "metadata": {},
   "source": [
    "### Add more benign traffic from other devices"
   ]
  },
  {
   "cell_type": "code",
   "execution_count": 16,
   "metadata": {},
   "outputs": [
    {
     "name": "stdout",
     "output_type": "stream",
     "text": [
      "(49548, 115)\n",
      "(13113, 115)\n",
      "(39100, 115)\n",
      "(98514, 115)\n",
      "(52150, 115)\n",
      "(46585, 115)\n",
      "(19528, 115)\n"
     ]
    }
   ],
   "source": [
    "benign_files = [\n",
    "    os.path.join(ROOT_PATH, 'Danmini_Doorbell', 'benign_traffic.csv'),\n",
    "    os.path.join(ROOT_PATH, 'Ecobee_Thermostat', 'benign_traffic.csv'),\n",
    "    os.path.join(ROOT_PATH, 'Ennio_Doorbell', 'benign_traffic.csv'),\n",
    "    os.path.join(ROOT_PATH, '838_Security_Cam', 'benign_traffic.csv'),\n",
    "    os.path.join(ROOT_PATH, 'Samsung_Webcam', 'benign_traffic.csv'),\n",
    "    os.path.join(ROOT_PATH, '1002_Security_Cam', 'benign_traffic.csv'),\n",
    "    os.path.join(ROOT_PATH, '1003_Security_Cam', 'benign_traffic.csv')\n",
    "\n",
    "\n",
    "]\n",
    "\n",
    "for bf in benign_files:\n",
    "    b_df = pd.read_csv(bf)\n",
    "    print(b_df.shape)\n",
    "    b_df['traffic_type'] = 0\n",
    "    train_df = train_df.append(b_df)"
   ]
  },
  {
   "cell_type": "code",
   "execution_count": 17,
   "metadata": {},
   "outputs": [
    {
     "data": {
      "text/plain": [
       "<AxesSubplot:title={'center':'Test Traffic'}>"
      ]
     },
     "execution_count": 17,
     "metadata": {},
     "output_type": "execute_result"
    },
    {
     "data": {
      "image/png": "[encoded data removed]",
      "text/plain": [
       "<Figure size 720x360 with 2 Axes>"
      ]
     },
     "metadata": {
      "needs_background": "light"
     },
     "output_type": "display_data"
    }
   ],
   "source": [
    "fig, axes = plt.subplots(1,2, figsize=(10,5), squeeze=False, sharey=True)\n",
    "#fig.tight_layout()\n",
    "\n",
    "train_df['traffic_type'].value_counts().plot(kind='bar', title='Train Traffic', y='count', ax=axes[0,0])\n",
    "test_df['traffic_type'].value_counts().plot(kind='bar', title='Test Traffic', y='count', ax=axes[0,1])\n"
   ]
  },
  {
   "cell_type": "code",
   "execution_count": 18,
   "metadata": {},
   "outputs": [
    {
     "data": {
      "text/plain": [
       "1    610714\n",
       "0    493778\n",
       "Name: traffic_type, dtype: int64"
      ]
     },
     "execution_count": 18,
     "metadata": {},
     "output_type": "execute_result"
    }
   ],
   "source": [
    "train_df['traffic_type'].value_counts()"
   ]
  },
  {
   "cell_type": "code",
   "execution_count": 19,
   "metadata": {},
   "outputs": [
    {
     "data": {
      "text/plain": [
       "KNeighborsClassifier()"
      ]
     },
     "execution_count": 19,
     "metadata": {},
     "output_type": "execute_result"
    }
   ],
   "source": [
    "X_train = train_df.drop([\"traffic_type\" ], axis=1)\n",
    "y_train = train_df[\"traffic_type\"]\n",
    "\n",
    "clf2 = KNeighborsClassifier()\n",
    "clf2.fit(X_train, y_train)\n"
   ]
  },
  {
   "cell_type": "code",
   "execution_count": 20,
   "metadata": {},
   "outputs": [],
   "source": [
    "y_preds = clf2.predict(X_test)\n"
   ]
  },
  {
   "cell_type": "code",
   "execution_count": 21,
   "metadata": {},
   "outputs": [
    {
     "name": "stdout",
     "output_type": "stream",
     "text": [
      "              precision    recall  f1-score   support\n",
      "\n",
      "           0       0.44      0.99      0.60     62154\n",
      "           1       1.00      0.82      0.90    436010\n",
      "\n",
      "    accuracy                           0.84    498164\n",
      "   macro avg       0.72      0.90      0.75    498164\n",
      "weighted avg       0.93      0.84      0.86    498164\n",
      "\n"
     ]
    }
   ],
   "source": [
    "print(classification_report(y_test, y_preds, output_dict=False))\n"
   ]
  },
  {
   "cell_type": "code",
   "execution_count": 22,
   "metadata": {},
   "outputs": [
    {
     "data": {
      "text/plain": [
       "array([[ 61293,    861],\n",
       "       [ 79362, 356648]])"
      ]
     },
     "execution_count": 22,
     "metadata": {},
     "output_type": "execute_result"
    }
   ],
   "source": [
    "confusion_matrix(y_test, y_preds)"
   ]
  }
 ],
 "metadata": {
  "kernelspec": {
   "display_name": "Python 3",
   "language": "python",
   "name": "python3"
  },
  "language_info": {
   "codemirror_mode": {
    "name": "ipython",
    "version": 3
   },
   "file_extension": ".py",
   "mimetype": "text/x-python",
   "name": "python",
   "nbconvert_exporter": "python",
   "pygments_lexer": "ipython3",
   "version": "3.8.5"
  }
 },
 "nbformat": 4,
 "nbformat_minor": 4
}
